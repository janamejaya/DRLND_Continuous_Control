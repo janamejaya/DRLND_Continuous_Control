{
 "cells": [
  {
   "cell_type": "markdown",
   "metadata": {},
   "source": [
    "# Continuous Control\n",
    "\n",
    "---\n",
    "\n",
    "You are welcome to use this coding environment to train your agent for the project.  Follow the instructions below to get started!\n",
    "\n",
    "### 1. Start the Environment\n",
    "\n",
    "Run the next code cell to install a few packages.  This line will take a few minutes to run!"
   ]
  },
  {
   "cell_type": "code",
   "execution_count": 1,
   "metadata": {},
   "outputs": [
    {
     "name": "stdout",
     "output_type": "stream",
     "text": [
      "\u001b[31mtensorflow 1.7.1 has requirement numpy>=1.13.3, but you'll have numpy 1.12.1 which is incompatible.\u001b[0m\r\n",
      "\u001b[31mipython 6.5.0 has requirement prompt-toolkit<2.0.0,>=1.0.15, but you'll have prompt-toolkit 3.0.16 which is incompatible.\u001b[0m\r\n"
     ]
    }
   ],
   "source": [
    "!pip -q install ./python"
   ]
  },
  {
   "cell_type": "markdown",
   "metadata": {},
   "source": [
    "The environments corresponding to both versions of the environment are already saved in the Workspace and can be accessed at the file paths provided below.  \n",
    "\n",
    "Please select one of the two options below for loading the environment."
   ]
  },
  {
   "cell_type": "code",
   "execution_count": 2,
   "metadata": {},
   "outputs": [
    {
     "name": "stderr",
     "output_type": "stream",
     "text": [
      "INFO:unityagents:\n",
      "'Academy' started successfully!\n",
      "Unity Academy name: Academy\n",
      "        Number of Brains: 1\n",
      "        Number of External Brains : 1\n",
      "        Lesson number : 0\n",
      "        Reset Parameters :\n",
      "\t\tgoal_size -> 5.0\n",
      "\t\tgoal_speed -> 1.0\n",
      "Unity brain name: ReacherBrain\n",
      "        Number of Visual Observations (per agent): 0\n",
      "        Vector Observation space type: continuous\n",
      "        Vector Observation space size (per agent): 33\n",
      "        Number of stacked Vector Observation: 1\n",
      "        Vector Action space type: continuous\n",
      "        Vector Action space size (per agent): 4\n",
      "        Vector Action descriptions: , , , \n"
     ]
    }
   ],
   "source": [
    "from unityagents import UnityEnvironment\n",
    "import numpy as np\n",
    "\n",
    "# select this option to load version 1 (with a single agent) of the environment\n",
    "#env = UnityEnvironment(file_name='/data/Reacher_One_Linux_NoVis/Reacher_One_Linux_NoVis.x86_64')\n",
    "\n",
    "# select this option to load version 2 (with 20 agents) of the environment\n",
    "env = UnityEnvironment(file_name='/data/Reacher_Linux_NoVis/Reacher.x86_64')"
   ]
  },
  {
   "cell_type": "markdown",
   "metadata": {},
   "source": [
    "Environments contain **_brains_** which are responsible for deciding the actions of their associated agents. Here we check for the first brain available, and set it as the default brain we will be controlling from Python."
   ]
  },
  {
   "cell_type": "code",
   "execution_count": 3,
   "metadata": {},
   "outputs": [],
   "source": [
    "# get the default brain\n",
    "brain_name = env.brain_names[0]\n",
    "brain = env.brains[brain_name]"
   ]
  },
  {
   "cell_type": "markdown",
   "metadata": {},
   "source": [
    "### 2. Examine the State and Action Spaces\n",
    "\n",
    "Run the code cell below to print some information about the environment."
   ]
  },
  {
   "cell_type": "code",
   "execution_count": 4,
   "metadata": {},
   "outputs": [
    {
     "name": "stdout",
     "output_type": "stream",
     "text": [
      "Number of agents: 20\n",
      "Size of each action: 4\n",
      "There are 20 agents. Each observes a state with length: 33\n",
      "The state for the first agent looks like: [  0.00000000e+00  -4.00000000e+00   0.00000000e+00   1.00000000e+00\n",
      "  -0.00000000e+00  -0.00000000e+00  -4.37113883e-08   0.00000000e+00\n",
      "   0.00000000e+00   0.00000000e+00   0.00000000e+00   0.00000000e+00\n",
      "   0.00000000e+00   0.00000000e+00  -1.00000000e+01   0.00000000e+00\n",
      "   1.00000000e+00  -0.00000000e+00  -0.00000000e+00  -4.37113883e-08\n",
      "   0.00000000e+00   0.00000000e+00   0.00000000e+00   0.00000000e+00\n",
      "   0.00000000e+00   0.00000000e+00   5.75471878e+00  -1.00000000e+00\n",
      "   5.55726624e+00   0.00000000e+00   1.00000000e+00   0.00000000e+00\n",
      "  -1.68164849e-01]\n"
     ]
    }
   ],
   "source": [
    "# reset the environment\n",
    "env_info = env.reset(train_mode=True)[brain_name]\n",
    "\n",
    "# number of agents\n",
    "num_agents = len(env_info.agents)\n",
    "print('Number of agents:', num_agents)\n",
    "\n",
    "# size of each action\n",
    "action_size = brain.vector_action_space_size\n",
    "print('Size of each action:', action_size)\n",
    "\n",
    "# examine the state space \n",
    "states = env_info.vector_observations\n",
    "state_size = states.shape[1]\n",
    "print('There are {} agents. Each observes a state with length: {}'.format(states.shape[0], state_size))\n",
    "print('The state for the first agent looks like:', states[0])"
   ]
  },
  {
   "cell_type": "markdown",
   "metadata": {},
   "source": [
    "### 3. Take Random Actions in the Environment\n",
    "\n",
    "In the next code cell, you will learn how to use the Python API to control the agent and receive feedback from the environment.\n",
    "\n",
    "Note that **in this coding environment, you will not be able to watch the agents while they are training**, and you should set `train_mode=True` to restart the environment."
   ]
  },
  {
   "cell_type": "code",
   "execution_count": 5,
   "metadata": {},
   "outputs": [
    {
     "name": "stdout",
     "output_type": "stream",
     "text": [
      "Total score (averaged over agents) this episode: 0.16899999622255563\n"
     ]
    }
   ],
   "source": [
    "env_info = env.reset(train_mode=True)[brain_name]      # reset the environment    \n",
    "states = env_info.vector_observations                  # get the current state (for each agent)\n",
    "scores = np.zeros(num_agents)                          # initialize the score (for each agent)\n",
    "while True:\n",
    "    actions = np.random.randn(num_agents, action_size) # select an action (for each agent)\n",
    "    actions = np.clip(actions, -1, 1)                  # all actions between -1 and 1\n",
    "    env_info = env.step(actions)[brain_name]           # send all actions to tne environment\n",
    "    next_states = env_info.vector_observations         # get next state (for each agent)\n",
    "    rewards = env_info.rewards                         # get reward (for each agent)\n",
    "    dones = env_info.local_done                        # see if episode finished\n",
    "    scores += env_info.rewards                         # update the score (for each agent)\n",
    "    states = next_states                               # roll over states to next time step\n",
    "    if np.any(dones):                                  # exit loop if episode finished\n",
    "        break\n",
    "print('Total score (averaged over agents) this episode: {}'.format(np.mean(scores)))"
   ]
  },
  {
   "cell_type": "markdown",
   "metadata": {},
   "source": [
    "When finished, you can close the environment."
   ]
  },
  {
   "cell_type": "code",
   "execution_count": 6,
   "metadata": {},
   "outputs": [],
   "source": [
    "#env.close()"
   ]
  },
  {
   "cell_type": "markdown",
   "metadata": {},
   "source": [
    "### 4. It's Your Turn!\n",
    "\n",
    "Now it's your turn to train your own agent to solve the environment!  A few **important notes**:\n",
    "- When training the environment, set `train_mode=True`, so that the line for resetting the environment looks like the following:\n",
    "```python\n",
    "env_info = env.reset(train_mode=True)[brain_name]\n",
    "```\n",
    "- To structure your work, you're welcome to work directly in this Jupyter notebook, or you might like to start over with a new file!  You can see the list of files in the workspace by clicking on **_Jupyter_** in the top left corner of the notebook.\n",
    "- In this coding environment, you will not be able to watch the agents while they are training.  However, **_after training the agents_**, you can download the saved model weights to watch the agents on your own machine! "
   ]
  },
  {
   "cell_type": "code",
   "execution_count": 7,
   "metadata": {},
   "outputs": [],
   "source": [
    "# Initialize the agent\n",
    "from ddpg import DDPG_Agent\n",
    "agent = DDPG_Agent(\n",
    "    state_size=state_size,     # State vector\n",
    "    action_size=action_size,   # Number of actions\n",
    "    seed=256,                  # See for random number generator\n",
    "    hidden_layers_actor=[384,256,32],\n",
    "    hidden_layers_critic=[384,256,32], # 2 fully connected layers + 4 per head\n",
    "    tau=1e-3,                  # The fractional update contribution of the local network to target network.\n",
    "    learning_rate_actor=1e-3,  # learning rate for the actor\n",
    "    learning_rate_critic=1e-3, # Learning rate for the critic\n",
    "    weight_decay = 0.0000,      # Weight decay for l2-regularization in optimizer\n",
    "    num_batches = 10,          # Number of batches to train\n",
    "    add_noise=True,            # Add noise to action probs\n",
    "    head_name_critic='Actor',\n",
    "    head_scale_critic=\"DuelingDQN\",    # Specify DuelingDQN with this\n",
    "    head_name_actor=\"max\",\n",
    "    head_scale_actor=\"max\"           # Use max advantage value to rescale the advantage function of the duelingDQN.\n",
    ")"
   ]
  },
  {
   "cell_type": "code",
   "execution_count": 8,
   "metadata": {},
   "outputs": [],
   "source": [
    "from experiments import Continuous_Action_Experiments"
   ]
  },
  {
   "cell_type": "code",
   "execution_count": 9,
   "metadata": {},
   "outputs": [],
   "source": [
    "# DEFINE THE TARGET AS ACHIEVING A SPECIFIC RUNNING AVERAGE SCORE, AVERAGED OVER A GIVEN NUMBER OF EPISODES\n",
    "# Set the number of episodes to get running average over\n",
    "nepisodes_running_avg = 100\n",
    "\n",
    "# Set the target score that must be achieved for a 'successful' agent\n",
    "objective_score = 30.0"
   ]
  },
  {
   "cell_type": "code",
   "execution_count": 10,
   "metadata": {},
   "outputs": [],
   "source": [
    "env_info = env.reset(train_mode=False)[brain_name]"
   ]
  },
  {
   "cell_type": "code",
   "execution_count": 11,
   "metadata": {},
   "outputs": [],
   "source": [
    "state = env_info.vector_observations"
   ]
  },
  {
   "cell_type": "code",
   "execution_count": 12,
   "metadata": {},
   "outputs": [
    {
     "name": "stdout",
     "output_type": "stream",
     "text": [
      "num_agents =  20\n"
     ]
    }
   ],
   "source": [
    "num_agents = state.shape[0]\n",
    "print('num_agents = ', num_agents)"
   ]
  },
  {
   "cell_type": "code",
   "execution_count": 13,
   "metadata": {},
   "outputs": [
    {
     "name": "stdout",
     "output_type": "stream",
     "text": [
      "self.brain_name =  ReacherBrain\n",
      "Continuous Action Experiment initialized\n"
     ]
    }
   ],
   "source": [
    "current_experiment = Continuous_Action_Experiments(\n",
    "    nagents = num_agents,                       # Number of agents\n",
    "    nruns = 2,                                  # Number of runs for which the target objective score will be achieved\n",
    "    nepisodes = 2000,                           # Number of episodes per run\n",
    "    maxt = 1000,                                # Maximum number of steps per episode\n",
    "    start_eps = 1.0,                            # Initial exploration probability\n",
    "    end_eps = 0.01,                             # Smallest exploration probability\n",
    "    decay_eps = 0.995,                          # Decay\n",
    "    current_agent = agent,                      # Agent to be used\n",
    "    current_env = env,                          # Environment to run the experiment in\n",
    "    target_score = objective_score,             # Target score to be achieved during each repetition of the experiment\n",
    "    num_episodes_score_avg = nepisodes_running_avg # Number of episodes over which the running average score will be calculated\n",
    ")"
   ]
  },
  {
   "cell_type": "code",
   "execution_count": 14,
   "metadata": {
    "scrolled": false
   },
   "outputs": [
    {
     "name": "stdout",
     "output_type": "stream",
     "text": [
      "Running experiment\n",
      "current experiment number =  0\n",
      "\n",
      "\n",
      "episode :  0  mean_score =  0.519499988388  avg score =  0.519499988388\n",
      "\n",
      "Run 0 \tEpisode_Num 0 \tAverage Score: 0.52\n",
      "episode :  1  mean_score =  0.92699997928  avg score =  0.723249983834\n",
      "episode :  2  mean_score =  2.22399995029  avg score =  1.22349997265\n",
      "episode :  3  mean_score =  1.74349996103  avg score =  1.35349996975\n",
      "episode :  4  mean_score =  3.12849993007  avg score =  1.70849996181\n",
      "episode :  5  mean_score =  2.51149994386  avg score =  1.84233329215\n",
      "episode :  6  mean_score =  4.54199989848  avg score =  2.2279999502\n",
      "episode :  7  mean_score =  5.83549986957  avg score =  2.67893744012\n",
      "episode :  8  mean_score =  5.56649987558  avg score =  2.99977771073\n",
      "episode :  9  mean_score =  7.31199983656  avg score =  3.43099992331\n",
      "episode :  10  mean_score =  10.2854997701  avg score =  4.05413627302\n",
      "episode :  11  mean_score =  14.4929996761  avg score =  4.92404155661\n",
      "episode :  12  mean_score =  11.3804997456  avg score =  5.42069218653\n",
      "episode :  13  mean_score =  14.9059996668  avg score =  6.09821414941\n",
      "episode :  14  mean_score =  12.570499719  avg score =  6.52969985405\n",
      "episode :  15  mean_score =  14.7079996713  avg score =  7.04084359262\n",
      "episode :  16  mean_score =  14.6704996721  avg score =  7.48964689142\n",
      "episode :  17  mean_score =  16.3174996353  avg score =  7.98008315496\n",
      "episode :  18  mean_score =  17.090999618  avg score =  8.45960507407\n",
      "episode :  19  mean_score =  15.6349996505  avg score =  8.81837480289\n",
      "episode :  20  mean_score =  15.5859996516  avg score =  9.14064265283\n",
      "episode :  21  mean_score =  17.6029996065  avg score =  9.52529524164\n",
      "episode :  22  mean_score =  17.5174996085  avg score =  9.87278238802\n",
      "episode :  23  mean_score =  19.4049995663  avg score =  10.2699581038\n",
      "episode :  24  mean_score =  19.7464995586  avg score =  10.649019762\n",
      "episode :  25  mean_score =  21.6439995162  avg score =  11.0719035987\n",
      "episode :  26  mean_score =  21.4694995201  avg score =  11.4569997439\n",
      "episode :  27  mean_score =  21.7784995132  avg score =  11.8256247357\n",
      "episode :  28  mean_score =  21.7054995148  avg score =  12.1663100729\n",
      "episode :  29  mean_score =  23.4314994763  avg score =  12.5418163863\n",
      "episode :  30  mean_score =  23.3459994782  avg score =  12.8903384216\n",
      "episode :  31  mean_score =  25.7344994248  avg score =  13.2917184529\n",
      "episode :  32  mean_score =  25.3909994325  avg score =  13.6583633311\n",
      "episode :  33  mean_score =  32.1444992815  avg score =  14.202073212\n",
      "episode :  34  mean_score =  30.2099993248  avg score =  14.6594425295\n",
      "episode :  35  mean_score =  30.3099993225  avg score =  15.0941802182\n",
      "episode :  36  mean_score =  33.0289992617  avg score =  15.5789050572\n",
      "episode :  37  mean_score =  33.3079992555  avg score =  16.0454601677\n",
      "episode :  38  mean_score =  35.252499212  avg score =  16.5379483483\n",
      "episode :  39  mean_score =  34.717999224  avg score =  16.9924496202\n",
      "episode :  40  mean_score =  33.5169992508  avg score =  17.3954874161\n",
      "episode :  41  mean_score =  34.1274992372  avg score =  17.7938686499\n",
      "episode :  42  mean_score =  33.283999256  avg score =  18.1541042454\n",
      "episode :  43  mean_score =  35.522999206  avg score =  18.5488518581\n",
      "episode :  44  mean_score =  34.9174992195  avg score =  18.9125995773\n",
      "episode :  45  mean_score =  35.0094992175  avg score =  19.2625321781\n",
      "episode :  46  mean_score =  35.0384992168  avg score =  19.5981910513\n",
      "episode :  47  mean_score =  34.5644992274  avg score =  19.9099891383\n",
      "episode :  48  mean_score =  35.3369992102  avg score =  20.2248260786\n",
      "episode :  49  mean_score =  34.2534992344  avg score =  20.5053995417\n",
      "episode :  50  mean_score =  34.0194992396  avg score =  20.7703818887\n",
      "episode :  51  mean_score =  34.9339992192  avg score =  21.042759145\n",
      "episode :  52  mean_score =  35.3054992109  avg score =  21.3118674482\n",
      "episode :  53  mean_score =  32.6984992691  avg score =  21.5227310004\n",
      "episode :  54  mean_score =  35.6714992027  avg score =  21.7799813314\n",
      "episode :  55  mean_score =  35.6709992027  avg score =  22.0280352219\n",
      "episode :  56  mean_score =  35.7769992003  avg score =  22.2692451163\n",
      "episode :  57  mean_score =  35.0924992156  avg score =  22.4903357042\n",
      "episode :  58  mean_score =  35.1509992143  avg score =  22.7049232213\n",
      "episode :  59  mean_score =  34.9239992194  avg score =  22.908574488\n",
      "episode :  60  mean_score =  35.2009992132  avg score =  23.1100896474\n",
      "episode :  61  mean_score =  36.5739991825  avg score =  23.3272494786\n",
      "episode :  62  mean_score =  35.6644992028  avg score =  23.5230788393\n",
      "episode :  63  mean_score =  36.2554991896  avg score =  23.7220229073\n",
      "episode :  64  mean_score =  37.0604991716  avg score =  23.9272302344\n",
      "episode :  65  mean_score =  35.1294992148  avg score =  24.0969615826\n",
      "episode :  66  mean_score =  36.5724991825  avg score =  24.2831636363\n",
      "episode :  67  mean_score =  35.5049992064  avg score =  24.44819063\n",
      "episode :  68  mean_score =  36.9244991747  avg score =  24.6290066959\n",
      "episode :  69  mean_score =  33.686499247  avg score =  24.7583994466\n",
      "episode :  70  mean_score =  36.0669991938  avg score =  24.9176754994\n",
      "episode :  71  mean_score =  36.8944991753  avg score =  25.0840202727\n",
      "episode :  72  mean_score =  35.433499208  avg score =  25.2257939567\n",
      "episode :  73  mean_score =  36.5839991823  avg score =  25.3792832165\n",
      "episode :  74  mean_score =  36.5639991827  avg score =  25.5284127627\n",
      "episode :  75  mean_score =  35.0364992169  avg score =  25.6535191634\n",
      "episode :  76  mean_score =  36.0329991946  avg score =  25.7883176054\n",
      "episode :  77  mean_score =  35.209499213  avg score =  25.909101985\n",
      "episode :  78  mean_score =  34.7004992244  avg score =  26.0203854943\n",
      "episode :  79  mean_score =  37.0259991724  avg score =  26.1579556653\n",
      "episode :  80  mean_score =  35.1774992137  avg score =  26.2693080548\n",
      "episode :  81  mean_score =  35.1379992146  avg score =  26.3774628251\n",
      "episode :  82  mean_score =  36.3959991865  avg score =  26.4981680824\n",
      "episode :  83  mean_score =  35.5419992056  avg score =  26.6058327386\n",
      "episode :  84  mean_score =  35.1084992153  avg score =  26.705864109\n",
      "episode :  85  mean_score =  34.9574992186  avg score =  26.8018133544\n",
      "episode :  86  mean_score =  37.803999155  avg score =  26.9282752602\n",
      "episode :  87  mean_score =  35.2584992119  avg score =  27.022936896\n",
      "episode :  88  mean_score =  34.6534992254  avg score =  27.1086735514\n",
      "episode :  89  mean_score =  36.9964991731  avg score =  27.2185382805\n",
      "episode :  90  mean_score =  34.091499238  avg score =  27.294065324\n",
      "episode :  91  mean_score =  35.9754991959  avg score =  27.3884287356\n",
      "episode :  92  mean_score =  34.8729992205  avg score =  27.4689079882\n",
      "episode :  93  mean_score =  33.7969992446  avg score =  27.5362281079\n",
      "episode :  94  mean_score =  35.4719992071  avg score =  27.6197625405\n",
      "episode :  95  mean_score =  36.1659991916  avg score =  27.708785839\n",
      "episode :  96  mean_score =  35.2439992122  avg score =  27.7864684511\n",
      "episode :  97  mean_score =  37.7879991554  avg score =  27.8885248868\n",
      "episode :  98  mean_score =  37.3004991663  avg score =  27.9835953341\n",
      "episode :  99  mean_score =  35.8884991978  avg score =  28.0626443728\n",
      "episode :  100  mean_score =  37.4619991627  avg score =  28.4320693645\n",
      "\n",
      "Run 0 \tEpisode_Num 100 \tAverage Score: 28.43\n",
      "episode :  101  mean_score =  36.3329991879  avg score =  28.7861293566\n",
      "episode :  102  mean_score =  36.2569991896  avg score =  29.126459349\n",
      "episode :  103  mean_score =  34.9214992194  avg score =  29.4582393416\n",
      "episode :  104  mean_score =  35.2244992127  avg score =  29.7791993344\n",
      "episode :  105  mean_score =  36.7919991776  avg score =  30.1220043267\n",
      "\n",
      "Environment solved in 105 episodes!\tAverage Score: 30.12 \tTotal time/seconds: 12907.06\n",
      "end of run :  0\n",
      "current experiment number =  1\n",
      "\n",
      "\n",
      "episode :  0  mean_score =  1.02849997701  avg score =  1.02849997701\n",
      "\n",
      "Run 1 \tEpisode_Num 0 \tAverage Score: 1.03\n",
      "episode :  1  mean_score =  2.30499994848  avg score =  1.66674996275\n",
      "episode :  2  mean_score =  6.50399985462  avg score =  3.27916659337\n",
      "episode :  3  mean_score =  12.481999721  avg score =  5.57987487528\n",
      "episode :  4  mean_score =  19.6909995599  avg score =  8.4020998122\n",
      "episode :  5  mean_score =  25.5154994297  avg score =  11.2543330818\n"
     ]
    },
    {
     "name": "stdout",
     "output_type": "stream",
     "text": [
      "episode :  6  mean_score =  33.1364992593  avg score =  14.3803568214\n",
      "episode :  7  mean_score =  36.2639991894  avg score =  17.1158121174\n",
      "episode :  8  mean_score =  35.9569991963  avg score =  19.2092773484\n",
      "episode :  9  mean_score =  34.2469992345  avg score =  20.713049537\n",
      "episode :  10  mean_score =  37.1584991694  avg score =  22.2080904127\n",
      "episode :  11  mean_score =  34.6619992252  avg score =  23.2459161471\n",
      "episode :  12  mean_score =  33.8569992432  avg score =  24.0621533083\n",
      "episode :  13  mean_score =  35.3484992099  avg score =  24.8683208727\n",
      "episode :  14  mean_score =  35.6099992041  avg score =  25.5844327615\n",
      "episode :  15  mean_score =  35.700499202  avg score =  26.216686914\n",
      "episode :  16  mean_score =  34.1929992357  avg score =  26.6858817565\n",
      "episode :  17  mean_score =  35.0694992161  avg score =  27.151638282\n",
      "episode :  18  mean_score =  36.6104991817  avg score =  27.6494730662\n",
      "episode :  19  mean_score =  36.8599991761  avg score =  28.1099993717\n",
      "episode :  20  mean_score =  36.7594991784  avg score =  28.5218803149\n",
      "episode :  21  mean_score =  36.8994991752  avg score =  28.9026811722\n",
      "episode :  22  mean_score =  35.6704992027  avg score =  29.19693413\n",
      "episode :  23  mean_score =  35.2704992116  avg score =  29.4499993417\n",
      "episode :  24  mean_score =  36.1109991929  avg score =  29.7164393358\n",
      "episode :  25  mean_score =  34.4724992295  avg score =  29.8993647163\n",
      "episode :  26  mean_score =  33.3404992548  avg score =  30.0268141437\n",
      "\n",
      "Environment solved in 26 episodes!\tAverage Score: 30.03 \tTotal time/seconds: 3235.02\n",
      "end of run :  1\n",
      "\n",
      "Average number of episodes required to reach target score : 65.500000 +/- 39.500000\n",
      "Average time/seconds per run required to reach target score : 8071.121342 +/- 4836.099544\n"
     ]
    }
   ],
   "source": [
    "# Run the experiment and collect score information\n",
    "all_scores, all_avg_scores = current_experiment.run_experiment()"
   ]
  },
  {
   "cell_type": "markdown",
   "metadata": {},
   "source": [
    "### Display the Results"
   ]
  },
  {
   "cell_type": "code",
   "execution_count": 15,
   "metadata": {},
   "outputs": [
    {
     "data": {
      "text/html": [
       "\n",
       "<style>\n",
       ".output_png {\n",
       "    display: table-cell;\n",
       "    text-align: center;\n",
       "    vertical-align: middle;\n",
       "}\n",
       "</style>\n"
      ],
      "text/plain": [
       "<IPython.core.display.HTML object>"
      ]
     },
     "execution_count": 15,
     "metadata": {},
     "output_type": "execute_result"
    }
   ],
   "source": [
    "import matplotlib.pyplot as plt\n",
    "%matplotlib inline\n",
    "import pandas as pd\n",
    "from IPython.core.display import HTML\n",
    "\n",
    "HTML(\"\"\"\n",
    "<style>\n",
    ".output_png {\n",
    "    display: table-cell;\n",
    "    text-align: center;\n",
    "    vertical-align: middle;\n",
    "}\n",
    "</style>\n",
    "\"\"\")"
   ]
  },
  {
   "cell_type": "code",
   "execution_count": 16,
   "metadata": {},
   "outputs": [],
   "source": [
    "# Display the results in the notebook and save figure\n",
    "def display_results(all_scores):\n",
    "    print('Number of plots to be made = ', len(all_scores))\n",
    "    \n",
    "    # Find the number of rows\n",
    "    if len(all_scores)>1:\n",
    "        nrows = int(np.ceil(len(all_scores)/2))\n",
    "        ncols = 2\n",
    "    elif len(all_scores)==1:\n",
    "        nrows = 1\n",
    "        ncols = 1\n",
    "    print('nrows = ', nrows, ' ncols = ', ncols)\n",
    "    \n",
    "    if len(all_scores)>2:\n",
    "        # Display the scores per episode along with the running averarage over 100 episodes and target score\n",
    "        fig, ax = plt.subplots(nrows, ncols, sharex=True, sharey=True, figsize=[16, 20])\n",
    "        #fig.suptitle(\"Target, per episode and running average scores for each experiment\", fontsize=20)\n",
    "    elif len(all_scores)==1:\n",
    "         # Display the scores per episode along with the running averarage over 100 episodes and target score\n",
    "        fig, ax = plt.subplots(nrows, ncols, sharex=True, sharey=True, figsize=[8, 4])       \n",
    "    elif len(all_scores)==2:\n",
    "         # Display the scores per episode along with the running averarage over 100 episodes and target score\n",
    "        fig, ax = plt.subplots(nrows, ncols, sharex=True, sharey=True, figsize=[16, 4])  \n",
    "        \n",
    "    if len(all_scores)%2!=0 and len(all_scores)>1:\n",
    "        print('delete last block', nrows-1, ncols-1)\n",
    "        fig.delaxes(ax[nrows-1,ncols-1])\n",
    "    plt.rcParams.update({'font.size': 14})\n",
    "    \n",
    "    # For each run\n",
    "    for idx in range(len(all_scores)):\n",
    "        # Get the list of scores for each episode in this run\n",
    "        scores = all_scores[idx]\n",
    "        #print('idx = ',idx, 'scores are: ',scores)\n",
    "            \n",
    "        # Get the rolling average over self.num_episodes_score_avg successive values of score\n",
    "        scores_rolling = pd.Series(scores).rolling(nepisodes_running_avg).mean()\n",
    "        \n",
    "        #rowid = int(np.ceil(idx/2))\n",
    "        rowid = idx//2\n",
    "        colid = idx%2\n",
    "        #print(idx, rowid, colid)\n",
    "        \n",
    "        if len(all_scores)>2:\n",
    "            # Style for score\n",
    "            ax[rowid,colid].plot(scores, \"-\", c=\"blue\", alpha=0.25)\n",
    "        \n",
    "            titlestr = 'Run ' + str(idx+1)\n",
    "            ax[rowid, colid].set_title(titlestr)\n",
    "\n",
    "            # Stype for rolling average of score\n",
    "            ax[rowid,colid].plot(scores_rolling, \"-\", c=\"green\", linewidth=5, alpha=0.25)\n",
    "\n",
    "            # Display target score\n",
    "            ax[rowid,colid].axhline(objective_score, c=\"red\", linewidth=5, alpha=0.25)\n",
    "\n",
    "            # Set labels\n",
    "            ax[rowid,colid].set_xlabel(\"Episode\")\n",
    "            ax[rowid,colid].set_ylabel(\"Score\")\n",
    "\n",
    "            # Display grid\n",
    "            ax[rowid,colid].grid(which=\"major\")\n",
    "            ax[rowid,colid].legend([\"Score of Each Episode\", \"Moving Average over Episodes\", \"Target\"])\n",
    "        elif len(all_scores)==1:\n",
    "            # Style for score\n",
    "            ax.plot(scores, \"-\", c=\"blue\", alpha=0.25)\n",
    "        \n",
    "            titlestr = 'Run ' + str(idx+1)\n",
    "            ax.set_title(titlestr)\n",
    "\n",
    "            # Stype for rolling average of score\n",
    "            ax.plot(scores_rolling, \"-\", c=\"green\", linewidth=5, alpha=0.25)\n",
    "\n",
    "            # Display target score\n",
    "            ax.axhline(objective_score, c=\"red\", linewidth=5, alpha=0.25)\n",
    "\n",
    "            # Set labels\n",
    "            ax.set_xlabel(\"Episode\")\n",
    "            ax.set_ylabel(\"Score\")\n",
    "\n",
    "            # Display grid\n",
    "            ax.grid(which=\"major\")\n",
    "            ax.legend([\"Score of Each Episode\", \"Moving Average over Episodes\", \"Target\"])\n",
    "        elif len(all_scores)==2:\n",
    "            # Style for score\n",
    "            ax[colid].plot(scores, \"-\", c=\"blue\", alpha=0.25)\n",
    "        \n",
    "            titlestr = 'Run ' + str(idx+1)\n",
    "            ax[colid].set_title(titlestr)\n",
    "\n",
    "            # Stype for rolling average of score\n",
    "            ax[colid].plot(scores_rolling, \"-\", c=\"green\", linewidth=5, alpha=0.25)\n",
    "\n",
    "            # Display target score\n",
    "            ax[colid].axhline(objective_score, c=\"red\", linewidth=5, alpha=0.25)\n",
    "\n",
    "            # Set labels\n",
    "            ax[colid].set_xlabel(\"Episode\")\n",
    "            ax[colid].set_ylabel(\"Score\")\n",
    "\n",
    "            # Display grid\n",
    "            ax[colid].grid(which=\"major\")\n",
    "            ax[colid].legend([\"Score of Each Episode\", \"Moving Average over Episodes\", \"Target\"])\n",
    "            \n",
    "    # Save figure\n",
    "    fig.tight_layout()\n",
    "    fig.savefig(\"result_score.jpg\")"
   ]
  },
  {
   "cell_type": "code",
   "execution_count": 17,
   "metadata": {},
   "outputs": [
    {
     "name": "stdout",
     "output_type": "stream",
     "text": [
      "Number of plots to be made =  2\n",
      "nrows =  1  ncols =  2\n"
     ]
    },
    {
     "data": {
      "image/png": "[encoded data removed]",
      "text/plain": [
       "<matplotlib.figure.Figure at 0x7efdb34f9ba8>"
      ]
     },
     "metadata": {
      "needs_background": "light"
     },
     "output_type": "display_data"
    }
   ],
   "source": [
    "display_results(all_scores)"
   ]
  },
  {
   "cell_type": "markdown",
   "metadata": {},
   "source": [
    "### Watch the agents performance"
   ]
  },
  {
   "cell_type": "code",
   "execution_count": 18,
   "metadata": {},
   "outputs": [
    {
     "data": {
      "text/plain": [
       "['Continuous_Control.ipynb',\n",
       " 'checkpoint_actor_local0.pth',\n",
       " 'noise.py',\n",
       " 'ddpg.py',\n",
       " '.ipynb_checkpoints',\n",
       " 'replaybuffer.py',\n",
       " 'model.py',\n",
       " 'python',\n",
       " '__pycache__',\n",
       " 'unity-environment.log',\n",
       " 'experiments.py',\n",
       " 'checkpoint_critic_local0.pth',\n",
       " 'result_score.jpg',\n",
       " 'checkpoint_critic_local1.pth',\n",
       " 'checkpoint_actor_local1.pth']"
      ]
     },
     "execution_count": 18,
     "metadata": {},
     "output_type": "execute_result"
    }
   ],
   "source": [
    "import os\n",
    "os.listdir()"
   ]
  },
  {
   "cell_type": "code",
   "execution_count": 19,
   "metadata": {},
   "outputs": [
    {
     "name": "stdout",
     "output_type": "stream",
     "text": [
      "checkpoint_actor_local0.pth checkpoint_critic_local0.pth\n"
     ]
    }
   ],
   "source": [
    "# Identify the run with the largest score and load weights from the appropriate checkpoint file\n",
    "#print(all_avg_scores)\n",
    "import torch\n",
    "chkpt_actor_filename = 'checkpoint_actor_local'+str(np.argmax(all_avg_scores))+'.pth'\n",
    "chkpt_critic_filename ='checkpoint_critic_local'+str(np.argmax(all_avg_scores))+'.pth'\n",
    "print(chkpt_actor_filename, chkpt_critic_filename)\n",
    "\n",
    "# Load the saved weights into Pytorch model\n",
    "agent.actor_local.load_state_dict(torch.load(chkpt_actor_filename))\n",
    "agent.critic_local.load_state_dict(torch.load(chkpt_critic_filename))"
   ]
  },
  {
   "cell_type": "code",
   "execution_count": 20,
   "metadata": {},
   "outputs": [
    {
     "name": "stdout",
     "output_type": "stream",
     "text": [
      "0\n",
      "1\n",
      "2\n",
      "3\n",
      "4\n"
     ]
    }
   ],
   "source": [
    "# For 5 episodes\n",
    "for i in range(5):\n",
    "    env_info = env.reset(train_mode=False)[brain_name]\n",
    "    state = env_info.vector_observations   # get the next state\n",
    "    print(i)\n",
    "    \n",
    "    for j in range(200):\n",
    "        action = agent.act(state).astype(int)\n",
    "        env_info = env.step(action)[brain_name]\n",
    "        state = env_info.vector_observations   # get the next state\n",
    "        done = env_info.local_done                  # see if episode has finished\n",
    "        if done:\n",
    "            break"
   ]
  },
  {
   "cell_type": "code",
   "execution_count": null,
   "metadata": {},
   "outputs": [],
   "source": []
  }
 ],
 "metadata": {
  "kernelspec": {
   "display_name": "Python 3",
   "language": "python",
   "name": "python3"
  },
  "language_info": {
   "codemirror_mode": {
    "name": "ipython",
    "version": 3
   },
   "file_extension": ".py",
   "mimetype": "text/x-python",
   "name": "python",
   "nbconvert_exporter": "python",
   "pygments_lexer": "ipython3",
   "version": "3.6.3"
  }
 },
 "nbformat": 4,
 "nbformat_minor": 2
}
